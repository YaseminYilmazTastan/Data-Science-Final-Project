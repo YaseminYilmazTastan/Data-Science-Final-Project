{
 "cells": [
  {
   "cell_type": "code",
   "execution_count": 11,
   "id": "38e5fe9e-2f1d-4dc1-bd60-4a4bd4a2baf9",
   "metadata": {},
   "outputs": [],
   "source": [
    "#get the google scraper\n",
    "from pytrends.request import TrendReq\n",
    "#add my parameters\n",
    "trend = TrendReq(hl='en-US', tz=360)\n",
    "kw_list = [\"Microsoft\",\"Apple\"]"
   ]
  },
  {
   "cell_type": "code",
   "execution_count": 12,
   "id": "dc3764df-2705-490a-9953-fe4fa1e90569",
   "metadata": {},
   "outputs": [],
   "source": [
    "#create payload\n",
    "trend.build_payload(kw_list ,timeframe='2022-01-01 2023-01-01')"
   ]
  },
  {
   "cell_type": "code",
   "execution_count": null,
   "id": "86dfd509-1d2d-4180-b1af-fa0f66f85014",
   "metadata": {},
   "outputs": [],
   "source": [
    "#create a dataframe of google trends\n",
    "data = trend.interest_over_time()\n"
   ]
  },
  {
   "cell_type": "code",
   "execution_count": null,
   "id": "d782abdb-52e7-4ba7-b835-c0e5e161ae58",
   "metadata": {},
   "outputs": [],
   "source": [
    "#import plotly and create an interact chart\n",
    "import plotly.express as px"
   ]
  },
  {
   "cell_type": "code",
   "execution_count": null,
   "id": "1983077a-de6f-4ca1-84fe-83ee4829e43b",
   "metadata": {},
   "outputs": [],
   "source": [
    "px.line(data,x = data.index, y = [\"Microsoft\",\"Apple\"], title = \"lütfen yazzz\")"
   ]
  },
  {
   "cell_type": "code",
   "execution_count": null,
   "id": "f92cbd2e-bb07-4dcd-9b7c-a001b1e14552",
   "metadata": {
    "tags": []
   },
   "outputs": [],
   "source": []
  },
  {
   "cell_type": "code",
   "execution_count": null,
   "id": "c7d2c1e6-2c09-4b14-b5b8-5cd22cee8dd2",
   "metadata": {},
   "outputs": [],
   "source": []
  }
 ],
 "metadata": {
  "kernelspec": {
   "display_name": "Python 3 (ipykernel)",
   "language": "python",
   "name": "python3"
  },
  "language_info": {
   "codemirror_mode": {
    "name": "ipython",
    "version": 3
   },
   "file_extension": ".py",
   "mimetype": "text/x-python",
   "name": "python",
   "nbconvert_exporter": "python",
   "pygments_lexer": "ipython3",
   "version": "3.11.1"
  }
 },
 "nbformat": 4,
 "nbformat_minor": 5
}
